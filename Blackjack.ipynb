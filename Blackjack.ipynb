{
 "cells": [
  {
   "cell_type": "code",
   "execution_count": 104,
   "id": "26cc81f4",
   "metadata": {},
   "outputs": [
    {
     "name": "stdout",
     "output_type": "stream",
     "text": [
      "Do you wanna play Black Jack? (Yes/No)yes\n",
      "Your cards are 8, 3\n",
      "One of the Dealer's cards is 6\n",
      "What do you want to do? (Hit/Stand)hit\n",
      "Your additional card: 9\n",
      "What do you want to do? (Hit/Stand)stand\n",
      "You win\n",
      "Your cards total: 20 \n",
      "Dealer's cards: 6, 8\n"
     ]
    },
    {
     "ename": "KeyboardInterrupt",
     "evalue": "Interrupted by user",
     "output_type": "error",
     "traceback": [
      "\u001b[0;31m---------------------------------------------------------------------------\u001b[0m",
      "\u001b[0;31mKeyboardInterrupt\u001b[0m                         Traceback (most recent call last)",
      "Input \u001b[0;32mIn [104]\u001b[0m, in \u001b[0;36m<cell line: 38>\u001b[0;34m()\u001b[0m\n\u001b[1;32m     32\u001b[0m             \u001b[38;5;28mprint\u001b[39m(\u001b[38;5;124mf\u001b[39m\u001b[38;5;124m\"\u001b[39m\u001b[38;5;124mYour cards: \u001b[39m\u001b[38;5;132;01m{\u001b[39;00m\u001b[38;5;28mself\u001b[39m\u001b[38;5;241m.\u001b[39mplayer\u001b[38;5;132;01m}\u001b[39;00m\u001b[38;5;124m \u001b[39m\u001b[38;5;130;01m\\n\u001b[39;00m\u001b[38;5;124mDealer\u001b[39m\u001b[38;5;124m'\u001b[39m\u001b[38;5;124ms cards: \u001b[39m\u001b[38;5;132;01m{\u001b[39;00m\u001b[38;5;28mself\u001b[39m\u001b[38;5;241m.\u001b[39mcom_num1\u001b[38;5;132;01m}\u001b[39;00m\u001b[38;5;124m, \u001b[39m\u001b[38;5;132;01m{\u001b[39;00m\u001b[38;5;28mself\u001b[39m\u001b[38;5;241m.\u001b[39mcom_num2\u001b[38;5;132;01m}\u001b[39;00m\u001b[38;5;124m\"\u001b[39m)\n\u001b[1;32m     37\u001b[0m \u001b[38;5;28;01mwhile\u001b[39;00m \u001b[38;5;28;01mTrue\u001b[39;00m:\n\u001b[0;32m---> 38\u001b[0m     output \u001b[38;5;241m=\u001b[39m \u001b[38;5;28;43minput\u001b[39;49m\u001b[43m(\u001b[49m\u001b[38;5;124;43m\"\u001b[39;49m\u001b[38;5;124;43mDo you wanna play Black Jack? (Yes/No)\u001b[39;49m\u001b[38;5;124;43m\"\u001b[39;49m\u001b[43m)\u001b[49m\n\u001b[1;32m     39\u001b[0m     \u001b[38;5;28;01mif\u001b[39;00m output\u001b[38;5;241m.\u001b[39mlower() \u001b[38;5;241m==\u001b[39m \u001b[38;5;124m\"\u001b[39m\u001b[38;5;124mno\u001b[39m\u001b[38;5;124m\"\u001b[39m:\n\u001b[1;32m     40\u001b[0m         \u001b[38;5;28mprint\u001b[39m(\u001b[38;5;124m\"\u001b[39m\u001b[38;5;124mThanks, see you again!\u001b[39m\u001b[38;5;124m\"\u001b[39m)\n",
      "File \u001b[0;32m~/opt/anaconda3/lib/python3.9/site-packages/ipykernel/kernelbase.py:1075\u001b[0m, in \u001b[0;36mKernel.raw_input\u001b[0;34m(self, prompt)\u001b[0m\n\u001b[1;32m   1071\u001b[0m \u001b[38;5;28;01mif\u001b[39;00m \u001b[38;5;129;01mnot\u001b[39;00m \u001b[38;5;28mself\u001b[39m\u001b[38;5;241m.\u001b[39m_allow_stdin:\n\u001b[1;32m   1072\u001b[0m     \u001b[38;5;28;01mraise\u001b[39;00m StdinNotImplementedError(\n\u001b[1;32m   1073\u001b[0m         \u001b[38;5;124m\"\u001b[39m\u001b[38;5;124mraw_input was called, but this frontend does not support input requests.\u001b[39m\u001b[38;5;124m\"\u001b[39m\n\u001b[1;32m   1074\u001b[0m     )\n\u001b[0;32m-> 1075\u001b[0m \u001b[38;5;28;01mreturn\u001b[39;00m \u001b[38;5;28;43mself\u001b[39;49m\u001b[38;5;241;43m.\u001b[39;49m\u001b[43m_input_request\u001b[49m\u001b[43m(\u001b[49m\n\u001b[1;32m   1076\u001b[0m \u001b[43m    \u001b[49m\u001b[38;5;28;43mstr\u001b[39;49m\u001b[43m(\u001b[49m\u001b[43mprompt\u001b[49m\u001b[43m)\u001b[49m\u001b[43m,\u001b[49m\n\u001b[1;32m   1077\u001b[0m \u001b[43m    \u001b[49m\u001b[38;5;28;43mself\u001b[39;49m\u001b[38;5;241;43m.\u001b[39;49m\u001b[43m_parent_ident\u001b[49m\u001b[43m[\u001b[49m\u001b[38;5;124;43m\"\u001b[39;49m\u001b[38;5;124;43mshell\u001b[39;49m\u001b[38;5;124;43m\"\u001b[39;49m\u001b[43m]\u001b[49m\u001b[43m,\u001b[49m\n\u001b[1;32m   1078\u001b[0m \u001b[43m    \u001b[49m\u001b[38;5;28;43mself\u001b[39;49m\u001b[38;5;241;43m.\u001b[39;49m\u001b[43mget_parent\u001b[49m\u001b[43m(\u001b[49m\u001b[38;5;124;43m\"\u001b[39;49m\u001b[38;5;124;43mshell\u001b[39;49m\u001b[38;5;124;43m\"\u001b[39;49m\u001b[43m)\u001b[49m\u001b[43m,\u001b[49m\n\u001b[1;32m   1079\u001b[0m \u001b[43m    \u001b[49m\u001b[43mpassword\u001b[49m\u001b[38;5;241;43m=\u001b[39;49m\u001b[38;5;28;43;01mFalse\u001b[39;49;00m\u001b[43m,\u001b[49m\n\u001b[1;32m   1080\u001b[0m \u001b[43m\u001b[49m\u001b[43m)\u001b[49m\n",
      "File \u001b[0;32m~/opt/anaconda3/lib/python3.9/site-packages/ipykernel/kernelbase.py:1120\u001b[0m, in \u001b[0;36mKernel._input_request\u001b[0;34m(self, prompt, ident, parent, password)\u001b[0m\n\u001b[1;32m   1117\u001b[0m             \u001b[38;5;28;01mbreak\u001b[39;00m\n\u001b[1;32m   1118\u001b[0m \u001b[38;5;28;01mexcept\u001b[39;00m \u001b[38;5;167;01mKeyboardInterrupt\u001b[39;00m:\n\u001b[1;32m   1119\u001b[0m     \u001b[38;5;66;03m# re-raise KeyboardInterrupt, to truncate traceback\u001b[39;00m\n\u001b[0;32m-> 1120\u001b[0m     \u001b[38;5;28;01mraise\u001b[39;00m \u001b[38;5;167;01mKeyboardInterrupt\u001b[39;00m(\u001b[38;5;124m\"\u001b[39m\u001b[38;5;124mInterrupted by user\u001b[39m\u001b[38;5;124m\"\u001b[39m) \u001b[38;5;28;01mfrom\u001b[39;00m \u001b[38;5;28mNone\u001b[39m\n\u001b[1;32m   1121\u001b[0m \u001b[38;5;28;01mexcept\u001b[39;00m \u001b[38;5;167;01mException\u001b[39;00m:\n\u001b[1;32m   1122\u001b[0m     \u001b[38;5;28mself\u001b[39m\u001b[38;5;241m.\u001b[39mlog\u001b[38;5;241m.\u001b[39mwarning(\u001b[38;5;124m\"\u001b[39m\u001b[38;5;124mInvalid Message:\u001b[39m\u001b[38;5;124m\"\u001b[39m, exc_info\u001b[38;5;241m=\u001b[39m\u001b[38;5;28;01mTrue\u001b[39;00m)\n",
      "\u001b[0;31mKeyboardInterrupt\u001b[0m: Interrupted by user"
     ]
    }
   ],
   "source": [
    "from random import randint\n",
    "\n",
    "result = {0:\"Blackjack\", 1:\"Dealer Busts! You win!\", 2:\"You bust! You lose!\", 3:\"You win\", 4:\"You lose\", 5:\"Game Tied\"}\n",
    "\n",
    "class Blackjack():\n",
    "    def __init__(self,user_num1, user_num2, com_num1, com_num2):\n",
    "\n",
    "        self.user_num1 = user_num1\n",
    "        self.user_num2 = user_num2\n",
    "        self.user_result = user_num1+user_num2\n",
    "\n",
    "        self.com_num1 = com_num1\n",
    "        self.com_num2 = com_num2\n",
    "        self.com_result = com_num1+com_num2\n",
    "\n",
    "\n",
    "    def Check(self, player, dealer):\n",
    "        self.player = player\n",
    "        self.dealer = dealer\n",
    "        if self.dealer  > 21:\n",
    "            print(result[1])\n",
    "        elif self.player > 21:\n",
    "            print(result[2])\n",
    "        elif self.player == self.dealer:\n",
    "            print(result[5])\n",
    "            print(f\"Your cards: {self.player} \\nDealer's cards: {self.com_num1}, {self.com_num2}\")\n",
    "        elif self.player > self.dealer :\n",
    "            print(result[3])\n",
    "            print(f\"Your cards total: {self.player} \\nDealer's cards: {self.com_num1}, {self.com_num2}\")\n",
    "        else:\n",
    "            print(result[4])\n",
    "            print(f\"Your cards: {self.player} \\nDealer's cards: {self.com_num1}, {self.com_num2}\")\n",
    "\n",
    "\n",
    "    \n",
    "\n",
    "while True:\n",
    "    output = input(\"Do you wanna play Black Jack? (Yes/No)\")\n",
    "    if output.lower() == \"no\":\n",
    "        print(\"Thanks, see you again!\")\n",
    "        break\n",
    "    elif output.lower() == \"yes\":\n",
    "        user_num1 = randint(1, 13) \n",
    "        user_num2 = randint(1, 13)\n",
    "        com_num1 = randint(1, 13)\n",
    "        com_num2 = randint(1, 13)\n",
    "\n",
    "        game = Blackjack(user_num1, user_num2, com_num1, com_num2)\n",
    "        player = game.user_result\n",
    "        dealer = game.com_result\n",
    "\n",
    "        print(f\"Your cards are {user_num1}, {user_num2}\\nOne of the Dealer's cards is {com_num1}\")\n",
    "        if player == 21:\n",
    "            print(result[0])\n",
    "\n",
    "        elif player > 21:\n",
    "            print(result[2])\n",
    "\n",
    "        else:\n",
    "            while True:\n",
    "                response = input(\"What do you want to do? (Hit/Stand)\")\n",
    "                if response.lower() == \"stand\":\n",
    "                    game.Check(player, dealer)\n",
    "                    break\n",
    "                elif response.lower() == \"hit\":\n",
    "                    hit_num = randint(1, 13)\n",
    "                    print(f\"Your additional card: {hit_num}\")\n",
    "                    player += hit_num\n",
    "                    if player > 21:\n",
    "                        print(result[2])\n",
    "                        break\n",
    "                        \n",
    "                else:\n",
    "                    print(\"Invalid option..choose again!\") \n",
    "                    \n",
    "    \n",
    "    else:\n",
    "        print(\"Invalid option.. Please try again..\")\n",
    "        \n",
    "        \n",
    "            "
   ]
  },
  {
   "cell_type": "code",
   "execution_count": null,
   "id": "cf1a5247",
   "metadata": {},
   "outputs": [],
   "source": []
  },
  {
   "cell_type": "code",
   "execution_count": null,
   "id": "5a3c77fe",
   "metadata": {},
   "outputs": [],
   "source": []
  },
  {
   "cell_type": "code",
   "execution_count": null,
   "id": "38a9b8db",
   "metadata": {},
   "outputs": [],
   "source": []
  }
 ],
 "metadata": {
  "kernelspec": {
   "display_name": "Python 3 (ipykernel)",
   "language": "python",
   "name": "python3"
  },
  "language_info": {
   "codemirror_mode": {
    "name": "ipython",
    "version": 3
   },
   "file_extension": ".py",
   "mimetype": "text/x-python",
   "name": "python",
   "nbconvert_exporter": "python",
   "pygments_lexer": "ipython3",
   "version": "3.9.12"
  }
 },
 "nbformat": 4,
 "nbformat_minor": 5
}
